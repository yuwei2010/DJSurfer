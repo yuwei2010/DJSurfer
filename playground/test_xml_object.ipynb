{
 "cells": [
  {
   "cell_type": "code",
   "execution_count": 59,
   "metadata": {},
   "outputs": [],
   "source": [
    "import pandas as pd\n",
    "import xml.etree.ElementTree as ET\n",
    "path1 = ('C:/Users/zho2abt/Python_Projects/proj_api_test/API_xml_response/response_CoCVS_relevant.xml')\n",
    "path2 = ('C:/Users/zho2abt/Python_Projects/proj_api_test/API_xml_response/getPuids/response_getPropRegulatedTopic.xml')\n",
    "\n",
    "tree = ET.parse(path1)\n",
    "root = tree.getroot()"
   ]
  },
  {
   "cell_type": "code",
   "execution_count": 64,
   "metadata": {},
   "outputs": [],
   "source": [
    "prop_name = 'property'\n",
    "attr_name = 'name'\n",
    "attr_text = ['item_id', 'item_revision_id', 'object_name', 'rb6_regulation_long_title']\n",
    "df = pd.DataFrame()\n",
    "\n",
    "\n",
    "for i in attr_text:\n",
    "    # create a list for each attribute\n",
    "    globals()[f'data_{i}'] = []\n",
    "\n",
    "    for obj in root.iter(prop_name):\n",
    "        attr = obj.find(attr_name)\n",
    "        if attr.text == i:\n",
    "            value = obj.find('value').find('key').text\n",
    "            globals()[f'data_{i}'].append(value)\n",
    "            \n",
    "    # print(globals()[f'data_{i}'])\n",
    "    df[i] = globals()[f'data_{i}']\n",
    "#print(df)"
   ]
  },
  {
   "cell_type": "code",
   "execution_count": 3,
   "metadata": {},
   "outputs": [],
   "source": [
    "# Call function\n",
    "\n",
    "from djsurfer.lib_interface.xml_object import XmltObject  # import the class"
   ]
  },
  {
   "cell_type": "code",
   "execution_count": null,
   "metadata": {},
   "outputs": [],
   "source": []
  }
 ],
 "metadata": {
  "kernelspec": {
   "display_name": ".venv",
   "language": "python",
   "name": "python3"
  },
  "language_info": {
   "codemirror_mode": {
    "name": "ipython",
    "version": 3
   },
   "file_extension": ".py",
   "mimetype": "text/x-python",
   "name": "python",
   "nbconvert_exporter": "python",
   "pygments_lexer": "ipython3",
   "version": "3.9.15"
  }
 },
 "nbformat": 4,
 "nbformat_minor": 2
}
