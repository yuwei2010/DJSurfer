{
 "cells": [
  {
   "cell_type": "code",
   "execution_count": 59,
   "metadata": {},
   "outputs": [],
   "source": [
    "import pandas as pd\n",
    "import xml.etree.ElementTree as ET\n",
    "path1 = ('C:/Users/zho2abt/Python_Projects/proj_api_test/API_xml_response/response_CoCVS_relevant.xml')\n",
    "path2 = ('C:/Users/zho2abt/Python_Projects/proj_api_test/API_xml_response/getPuids/response_getPropRegulatedTopic.xml')\n",
    "\n",
    "tree = ET.parse(path1)\n",
    "root = tree.getroot()"
   ]
  },
  {
   "cell_type": "code",
   "execution_count": 2,
   "metadata": {},
   "outputs": [],
   "source": [
    "%load_ext autoreload\n",
    "%autoreload 2"
   ]
  },
  {
   "cell_type": "code",
   "execution_count": 64,
   "metadata": {},
   "outputs": [],
   "source": [
    "prop_name = 'property'\n",
    "attr_name = 'name'\n",
    "attr_text = ['item_id', 'item_revision_id', 'object_name', 'rb6_regulation_long_title']\n",
    "df = pd.DataFrame()\n",
    "\n",
    "\n",
    "for i in attr_text:\n",
    "    # create a list for each attribute\n",
    "    globals()[f'data_{i}'] = []\n",
    "\n",
    "    for obj in root.iter(prop_name):\n",
    "        attr = obj.find(attr_name)\n",
    "        if attr.text == i:\n",
    "            value = obj.find('value').find('key').text\n",
    "            globals()[f'data_{i}'].append(value)\n",
    "            \n",
    "    # print(globals()[f'data_{i}'])\n",
    "    df[i] = globals()[f'data_{i}']\n",
    "#print(df)"
   ]
  },
  {
   "cell_type": "code",
   "execution_count": 8,
   "metadata": {},
   "outputs": [],
   "source": [
    "# Call function\n",
    "\n",
    "from xml_object import XmlObject as obj  # import the class\n",
    "path1 = ('C:/Users/zho2abt/Python_Projects/proj_api_test/API_xml_response/response_CoCVS_relevant.xml')\n",
    "path2 = ('C:/Users/zho2abt/Python_Projects/proj_api_test/API_xml_response/getPuids/response_getPropRegulatedTopic.xml')\n",
    "\n",
    "obj1 = obj(path1)\n",
    "obj2 = obj(path2)"
   ]
  },
  {
   "cell_type": "code",
   "execution_count": 9,
   "metadata": {},
   "outputs": [
    {
     "data": {
      "text/html": [
       "<div>\n",
       "<style scoped>\n",
       "    .dataframe tbody tr th:only-of-type {\n",
       "        vertical-align: middle;\n",
       "    }\n",
       "\n",
       "    .dataframe tbody tr th {\n",
       "        vertical-align: top;\n",
       "    }\n",
       "\n",
       "    .dataframe thead th {\n",
       "        text-align: right;\n",
       "    }\n",
       "</style>\n",
       "<table border=\"1\" class=\"dataframe\">\n",
       "  <thead>\n",
       "    <tr style=\"text-align: right;\">\n",
       "      <th></th>\n",
       "      <th>item_id</th>\n",
       "      <th>item_revision_id</th>\n",
       "      <th>object_name</th>\n",
       "      <th>rb6_regulation_long_title</th>\n",
       "    </tr>\n",
       "  </thead>\n",
       "  <tbody>\n",
       "    <tr>\n",
       "      <th>0</th>\n",
       "      <td>REG_00496766</td>\n",
       "      <td>001</td>\n",
       "      <td>Helmet Regulations, N.S. Reg. 99/2003 - Amendm...</td>\n",
       "      <td>Nova Scotia (Canada): Helmet Regulations, N.S....</td>\n",
       "    </tr>\n",
       "    <tr>\n",
       "      <th>1</th>\n",
       "      <td>REG_00066420</td>\n",
       "      <td>001</td>\n",
       "      <td>update by XC</td>\n",
       "      <td>test 2 new reg 6 4 2021</td>\n",
       "    </tr>\n",
       "    <tr>\n",
       "      <th>2</th>\n",
       "      <td>REG_00023453</td>\n",
       "      <td>001</td>\n",
       "      <td>Dangerous Goods Management Regulations, N.S. R...</td>\n",
       "      <td>Nova Scotia (Canada): Dangerous Goods Manageme...</td>\n",
       "    </tr>\n",
       "  </tbody>\n",
       "</table>\n",
       "</div>"
      ],
      "text/plain": [
       "        item_id item_revision_id  \\\n",
       "0  REG_00496766              001   \n",
       "1  REG_00066420              001   \n",
       "2  REG_00023453              001   \n",
       "\n",
       "                                         object_name  \\\n",
       "0  Helmet Regulations, N.S. Reg. 99/2003 - Amendm...   \n",
       "1                                       update by XC   \n",
       "2  Dangerous Goods Management Regulations, N.S. R...   \n",
       "\n",
       "                           rb6_regulation_long_title  \n",
       "0  Nova Scotia (Canada): Helmet Regulations, N.S....  \n",
       "1                            test 2 new reg 6 4 2021  \n",
       "2  Nova Scotia (Canada): Dangerous Goods Manageme...  "
      ]
     },
     "execution_count": 9,
     "metadata": {},
     "output_type": "execute_result"
    }
   ],
   "source": [
    "obj2.get_df()"
   ]
  },
  {
   "cell_type": "code",
   "execution_count": null,
   "metadata": {},
   "outputs": [],
   "source": []
  }
 ],
 "metadata": {
  "kernelspec": {
   "display_name": ".venv",
   "language": "python",
   "name": "python3"
  },
  "language_info": {
   "codemirror_mode": {
    "name": "ipython",
    "version": 3
   },
   "file_extension": ".py",
   "mimetype": "text/x-python",
   "name": "python",
   "nbconvert_exporter": "python",
   "pygments_lexer": "ipython3",
   "version": "3.9.15"
  }
 },
 "nbformat": 4,
 "nbformat_minor": 2
}
